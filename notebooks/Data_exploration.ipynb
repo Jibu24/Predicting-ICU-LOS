{
 "cells": [
  {
   "cell_type": "code",
   "execution_count": 2,
   "metadata": {},
   "outputs": [],
   "source": [
    "import pandas as pd\n",
    "import numpy as np\n",
    "import matplotlib.pyplot as plt\n",
    "import seaborn as sns"
   ]
  },
  {
   "cell_type": "markdown",
   "metadata": {},
   "source": [
    "# Importing Relevant Datasets"
   ]
  },
  {
   "cell_type": "code",
   "execution_count": 4,
   "metadata": {},
   "outputs": [],
   "source": [
    "# Importing data\n",
    "admissions_df = pd.read_csv('/Users/jibuthomas/Documents/mimic-iv-2.2/hosp/admissions.csv.gz')\n",
    "icu_df = pd.read_csv('/Users/jibuthomas/Documents/mimic-iv-2.2/icu/icustays.csv.gz')\n",
    "drg_df = pd.read_csv('/Users/jibuthomas/Documents/mimic-iv-2.2/hosp/drgcodes.csv.gz')\n",
    "diag_df = pd.read_csv('/Users/jibuthomas/Documents/mimic-iv-2.2/hosp/diagnoses_icd.csv.gz')\n",
    "d_diag_df = pd.read_csv('/Users/jibuthomas/Documents/mimic-iv-2.2/hosp/d_icd_diagnoses.csv.gz')\n",
    "patients_df = pd.read_csv('/Users/jibuthomas/Documents/mimic-iv-2.2/hosp/patients.csv.gz')"
   ]
  },
  {
   "cell_type": "code",
   "execution_count": 5,
   "metadata": {},
   "outputs": [
    {
     "data": {
      "text/html": [
       "<div>\n",
       "<style scoped>\n",
       "    .dataframe tbody tr th:only-of-type {\n",
       "        vertical-align: middle;\n",
       "    }\n",
       "\n",
       "    .dataframe tbody tr th {\n",
       "        vertical-align: top;\n",
       "    }\n",
       "\n",
       "    .dataframe thead th {\n",
       "        text-align: right;\n",
       "    }\n",
       "</style>\n",
       "<table border=\"1\" class=\"dataframe\">\n",
       "  <thead>\n",
       "    <tr style=\"text-align: right;\">\n",
       "      <th></th>\n",
       "      <th>subject_id</th>\n",
       "      <th>hadm_id</th>\n",
       "      <th>drg_type</th>\n",
       "      <th>drg_code</th>\n",
       "      <th>description</th>\n",
       "      <th>drg_severity</th>\n",
       "      <th>drg_mortality</th>\n",
       "    </tr>\n",
       "  </thead>\n",
       "  <tbody>\n",
       "    <tr>\n",
       "      <th>0</th>\n",
       "      <td>10000032</td>\n",
       "      <td>22595853</td>\n",
       "      <td>APR</td>\n",
       "      <td>283</td>\n",
       "      <td>OTHER DISORDERS OF THE LIVER</td>\n",
       "      <td>2.0</td>\n",
       "      <td>2.0</td>\n",
       "    </tr>\n",
       "    <tr>\n",
       "      <th>1</th>\n",
       "      <td>10000032</td>\n",
       "      <td>22595853</td>\n",
       "      <td>HCFA</td>\n",
       "      <td>442</td>\n",
       "      <td>DISORDERS OF LIVER EXCEPT MALIG,CIRR,ALC HEPA ...</td>\n",
       "      <td>NaN</td>\n",
       "      <td>NaN</td>\n",
       "    </tr>\n",
       "    <tr>\n",
       "      <th>2</th>\n",
       "      <td>10000032</td>\n",
       "      <td>22841357</td>\n",
       "      <td>APR</td>\n",
       "      <td>279</td>\n",
       "      <td>HEPATIC COMA &amp; OTHER MAJOR ACUTE LIVER DISORDERS</td>\n",
       "      <td>3.0</td>\n",
       "      <td>2.0</td>\n",
       "    </tr>\n",
       "    <tr>\n",
       "      <th>3</th>\n",
       "      <td>10000032</td>\n",
       "      <td>22841357</td>\n",
       "      <td>HCFA</td>\n",
       "      <td>442</td>\n",
       "      <td>DISORDERS OF LIVER EXCEPT MALIG,CIRR,ALC HEPA ...</td>\n",
       "      <td>NaN</td>\n",
       "      <td>NaN</td>\n",
       "    </tr>\n",
       "    <tr>\n",
       "      <th>4</th>\n",
       "      <td>10000032</td>\n",
       "      <td>25742920</td>\n",
       "      <td>APR</td>\n",
       "      <td>283</td>\n",
       "      <td>OTHER DISORDERS OF THE LIVER</td>\n",
       "      <td>3.0</td>\n",
       "      <td>2.0</td>\n",
       "    </tr>\n",
       "  </tbody>\n",
       "</table>\n",
       "</div>"
      ],
      "text/plain": [
       "   subject_id   hadm_id drg_type  drg_code  \\\n",
       "0    10000032  22595853      APR       283   \n",
       "1    10000032  22595853     HCFA       442   \n",
       "2    10000032  22841357      APR       279   \n",
       "3    10000032  22841357     HCFA       442   \n",
       "4    10000032  25742920      APR       283   \n",
       "\n",
       "                                         description  drg_severity  \\\n",
       "0                       OTHER DISORDERS OF THE LIVER           2.0   \n",
       "1  DISORDERS OF LIVER EXCEPT MALIG,CIRR,ALC HEPA ...           NaN   \n",
       "2   HEPATIC COMA & OTHER MAJOR ACUTE LIVER DISORDERS           3.0   \n",
       "3  DISORDERS OF LIVER EXCEPT MALIG,CIRR,ALC HEPA ...           NaN   \n",
       "4                       OTHER DISORDERS OF THE LIVER           3.0   \n",
       "\n",
       "   drg_mortality  \n",
       "0            2.0  \n",
       "1            NaN  \n",
       "2            2.0  \n",
       "3            NaN  \n",
       "4            2.0  "
      ]
     },
     "execution_count": 5,
     "metadata": {},
     "output_type": "execute_result"
    }
   ],
   "source": [
    "drg_df.head()"
   ]
  },
  {
   "cell_type": "markdown",
   "metadata": {},
   "source": [
    "### It looks like drg type APR and HCFA gives the same information"
   ]
  },
  {
   "cell_type": "code",
   "execution_count": 6,
   "metadata": {},
   "outputs": [],
   "source": [
    "# Filtering out HCFA rows\n",
    "drg_df = drg_df[drg_df['drg_type'] != 'HCFA']"
   ]
  },
  {
   "cell_type": "code",
   "execution_count": 7,
   "metadata": {},
   "outputs": [
    {
     "data": {
      "text/plain": [
       "drg_type\n",
       "APR    292422\n",
       "Name: count, dtype: int64"
      ]
     },
     "execution_count": 7,
     "metadata": {},
     "output_type": "execute_result"
    }
   ],
   "source": [
    "drg_df.drg_type.value_counts()"
   ]
  },
  {
   "cell_type": "code",
   "execution_count": 9,
   "metadata": {},
   "outputs": [
    {
     "name": "stdout",
     "output_type": "stream",
     "text": [
      "Columns in admissions_df: ['subject_id', 'hadm_id', 'admittime', 'dischtime', 'deathtime', 'admission_type', 'admit_provider_id', 'admission_location', 'discharge_location', 'insurance', 'language', 'marital_status', 'race', 'edregtime', 'edouttime', 'hospital_expire_flag']\n",
      "Columns in icu_df: ['subject_id', 'hadm_id', 'stay_id', 'first_careunit', 'last_careunit', 'intime', 'outtime', 'los']\n",
      "Columns in drg_df: ['subject_id', 'hadm_id', 'drg_type', 'drg_code', 'description', 'drg_severity', 'drg_mortality']\n",
      "Columns in diag_df: ['subject_id', 'hadm_id', 'seq_num', 'icd_code', 'icd_version']\n",
      "Columns in d_diag_df: ['icd_code', 'icd_version', 'long_title']\n",
      "Columns in patients_df: ['subject_id', 'gender', 'anchor_age', 'anchor_year', 'anchor_year_group', 'dod']\n"
     ]
    }
   ],
   "source": [
    "# Figuring out the columns in the relevant datasets\n",
    "def get_columns(df):\n",
    "    return df.columns.tolist()\n",
    "\n",
    "df_list = [admissions_df, icu_df, drg_df, diag_df, d_diag_df, patients_df]\n",
    "df_names = ['admissions_df', 'icu_df', 'drg_df', 'diag_df', 'd_diag_df', 'patients_df']\n",
    "\n",
    "for df, name in zip(df_list, df_names):\n",
    "    print(f\"Columns in {name}: {get_columns(df)}\")"
   ]
  },
  {
   "cell_type": "code",
   "execution_count": null,
   "metadata": {},
   "outputs": [],
   "source": []
  }
 ],
 "metadata": {
  "kernelspec": {
   "display_name": "base",
   "language": "python",
   "name": "python3"
  },
  "language_info": {
   "codemirror_mode": {
    "name": "ipython",
    "version": 3
   },
   "file_extension": ".py",
   "mimetype": "text/x-python",
   "name": "python",
   "nbconvert_exporter": "python",
   "pygments_lexer": "ipython3",
   "version": "3.13.2"
  }
 },
 "nbformat": 4,
 "nbformat_minor": 2
}
