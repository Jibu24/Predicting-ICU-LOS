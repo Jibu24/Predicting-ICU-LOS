{
 "cells": [
  {
   "cell_type": "code",
   "execution_count": 1,
   "metadata": {},
   "outputs": [],
   "source": [
    "import numpy as np\n",
    "import pandas as pd\n",
    "import matplotlib.pyplot as plt\n",
    "import seaborn as sns\n",
    "import sys\n",
    "import os\n",
    "\n",
    "sys.path.append('../')"
   ]
  },
  {
   "cell_type": "code",
   "execution_count": 2,
   "metadata": {},
   "outputs": [],
   "source": [
    "from src.create_dataset import MIMIC_III\n",
    "from src.create_dataset import MIMIC_IV\n",
    "from src.create_dataset import Dataset"
   ]
  },
  {
   "cell_type": "code",
   "execution_count": 3,
   "metadata": {},
   "outputs": [],
   "source": [
    "cleaned_df = Dataset(\"/Users/jibuthomas/Documents/mimic-iv-2.2\",\"/Users/jibuthomas/Documents/mimic-iii-clinical-database-1.4\")"
   ]
  },
  {
   "cell_type": "code",
   "execution_count": 4,
   "metadata": {},
   "outputs": [],
   "source": [
    "cleaned_df.load_data()"
   ]
  },
  {
   "cell_type": "code",
   "execution_count": 5,
   "metadata": {},
   "outputs": [],
   "source": [
    "cleaned_df.clean_data()"
   ]
  },
  {
   "cell_type": "code",
   "execution_count": 6,
   "metadata": {},
   "outputs": [],
   "source": [
    "cleaned_df.build()"
   ]
  },
  {
   "cell_type": "code",
   "execution_count": 7,
   "metadata": {},
   "outputs": [
    {
     "data": {
      "text/plain": [
       "(244, 25)"
      ]
     },
     "execution_count": 7,
     "metadata": {},
     "output_type": "execute_result"
    }
   ],
   "source": [
    "cleaned_df.df.shape"
   ]
  },
  {
   "cell_type": "code",
   "execution_count": 8,
   "metadata": {},
   "outputs": [
    {
     "data": {
      "text/html": [
       "<div>\n",
       "<style scoped>\n",
       "    .dataframe tbody tr th:only-of-type {\n",
       "        vertical-align: middle;\n",
       "    }\n",
       "\n",
       "    .dataframe tbody tr th {\n",
       "        vertical-align: top;\n",
       "    }\n",
       "\n",
       "    .dataframe thead th {\n",
       "        text-align: right;\n",
       "    }\n",
       "</style>\n",
       "<table border=\"1\" class=\"dataframe\">\n",
       "  <thead>\n",
       "    <tr style=\"text-align: right;\">\n",
       "      <th></th>\n",
       "      <th>subject_id</th>\n",
       "      <th>hadm_id</th>\n",
       "      <th>seq_num</th>\n",
       "      <th>icd_code</th>\n",
       "      <th>icd_version</th>\n",
       "      <th>admittime</th>\n",
       "      <th>admission_type</th>\n",
       "      <th>admission_location</th>\n",
       "      <th>discharge_location</th>\n",
       "      <th>insurance</th>\n",
       "      <th>...</th>\n",
       "      <th>anchor_year</th>\n",
       "      <th>first_careunit</th>\n",
       "      <th>last_careunit</th>\n",
       "      <th>intime</th>\n",
       "      <th>los</th>\n",
       "      <th>drg_code</th>\n",
       "      <th>description</th>\n",
       "      <th>drg_severity</th>\n",
       "      <th>drg_mortality</th>\n",
       "      <th>ed_los</th>\n",
       "    </tr>\n",
       "  </thead>\n",
       "  <tbody>\n",
       "    <tr>\n",
       "      <th>0</th>\n",
       "      <td>10196368</td>\n",
       "      <td>24464472</td>\n",
       "      <td>1.0</td>\n",
       "      <td>80604</td>\n",
       "      <td>9.0</td>\n",
       "      <td>2184-05-03 13:50:00</td>\n",
       "      <td>EW EMER.</td>\n",
       "      <td>EMERGENCY ROOM</td>\n",
       "      <td>REHAB</td>\n",
       "      <td>Other</td>\n",
       "      <td>...</td>\n",
       "      <td>2182.0</td>\n",
       "      <td>Trauma SICU (TSICU)</td>\n",
       "      <td>Trauma SICU (TSICU)</td>\n",
       "      <td>2184-05-03 14:36:00</td>\n",
       "      <td>2.301308</td>\n",
       "      <td>40.0</td>\n",
       "      <td>SPINAL DISORDERS &amp; INJURIES</td>\n",
       "      <td>2.0</td>\n",
       "      <td>2.0</td>\n",
       "      <td>658.0</td>\n",
       "    </tr>\n",
       "    <tr>\n",
       "      <th>1</th>\n",
       "      <td>10348324</td>\n",
       "      <td>27926100</td>\n",
       "      <td>1.0</td>\n",
       "      <td>80608</td>\n",
       "      <td>9.0</td>\n",
       "      <td>2137-06-29 20:21:00</td>\n",
       "      <td>EW EMER.</td>\n",
       "      <td>EMERGENCY ROOM</td>\n",
       "      <td>REHAB</td>\n",
       "      <td>Other</td>\n",
       "      <td>...</td>\n",
       "      <td>2137.0</td>\n",
       "      <td>Trauma SICU (TSICU)</td>\n",
       "      <td>Trauma SICU (TSICU)</td>\n",
       "      <td>2137-07-02 01:42:38</td>\n",
       "      <td>1.893750</td>\n",
       "      <td>23.0</td>\n",
       "      <td>SPINAL PROCEDURES</td>\n",
       "      <td>2.0</td>\n",
       "      <td>1.0</td>\n",
       "      <td>372.0</td>\n",
       "    </tr>\n",
       "    <tr>\n",
       "      <th>2</th>\n",
       "      <td>10393331</td>\n",
       "      <td>21425859</td>\n",
       "      <td>1.0</td>\n",
       "      <td>80600</td>\n",
       "      <td>9.0</td>\n",
       "      <td>2114-03-27 00:01:00</td>\n",
       "      <td>EW EMER.</td>\n",
       "      <td>EMERGENCY ROOM</td>\n",
       "      <td>REHAB</td>\n",
       "      <td>Other</td>\n",
       "      <td>...</td>\n",
       "      <td>2114.0</td>\n",
       "      <td>Trauma SICU (TSICU)</td>\n",
       "      <td>Trauma SICU (TSICU)</td>\n",
       "      <td>2114-03-27 01:30:00</td>\n",
       "      <td>17.376539</td>\n",
       "      <td>4.0</td>\n",
       "      <td>TRACHEOSTOMY W MV 96+ HOURS W EXTENSIVE PROCEDURE</td>\n",
       "      <td>4.0</td>\n",
       "      <td>3.0</td>\n",
       "      <td>384.0</td>\n",
       "    </tr>\n",
       "    <tr>\n",
       "      <th>3</th>\n",
       "      <td>10441044</td>\n",
       "      <td>21256821</td>\n",
       "      <td>3.0</td>\n",
       "      <td>80605</td>\n",
       "      <td>9.0</td>\n",
       "      <td>2165-06-19 01:58:00</td>\n",
       "      <td>EW EMER.</td>\n",
       "      <td>EMERGENCY ROOM</td>\n",
       "      <td>HOME</td>\n",
       "      <td>Other</td>\n",
       "      <td>...</td>\n",
       "      <td>2165.0</td>\n",
       "      <td>Trauma SICU (TSICU)</td>\n",
       "      <td>Trauma SICU (TSICU)</td>\n",
       "      <td>2165-06-19 03:27:00</td>\n",
       "      <td>13.884815</td>\n",
       "      <td>912.0</td>\n",
       "      <td>MUSCULOSKELETAL &amp; OTHER PROCEDURES FOR MULTIPL...</td>\n",
       "      <td>4.0</td>\n",
       "      <td>3.0</td>\n",
       "      <td>183.0</td>\n",
       "    </tr>\n",
       "    <tr>\n",
       "      <th>4</th>\n",
       "      <td>10521666</td>\n",
       "      <td>28942795</td>\n",
       "      <td>1.0</td>\n",
       "      <td>80605</td>\n",
       "      <td>9.0</td>\n",
       "      <td>2176-03-24 08:24:00</td>\n",
       "      <td>EW EMER.</td>\n",
       "      <td>EMERGENCY ROOM</td>\n",
       "      <td>REHAB</td>\n",
       "      <td>Medicare</td>\n",
       "      <td>...</td>\n",
       "      <td>2176.0</td>\n",
       "      <td>Trauma SICU (TSICU)</td>\n",
       "      <td>Trauma SICU (TSICU)</td>\n",
       "      <td>2176-03-24 09:29:00</td>\n",
       "      <td>29.218449</td>\n",
       "      <td>23.0</td>\n",
       "      <td>SPINAL PROCEDURES</td>\n",
       "      <td>3.0</td>\n",
       "      <td>3.0</td>\n",
       "      <td>212.0</td>\n",
       "    </tr>\n",
       "  </tbody>\n",
       "</table>\n",
       "<p>5 rows × 25 columns</p>\n",
       "</div>"
      ],
      "text/plain": [
       "   subject_id   hadm_id  seq_num icd_code  icd_version            admittime  \\\n",
       "0    10196368  24464472      1.0    80604          9.0  2184-05-03 13:50:00   \n",
       "1    10348324  27926100      1.0    80608          9.0  2137-06-29 20:21:00   \n",
       "2    10393331  21425859      1.0    80600          9.0  2114-03-27 00:01:00   \n",
       "3    10441044  21256821      3.0    80605          9.0  2165-06-19 01:58:00   \n",
       "4    10521666  28942795      1.0    80605          9.0  2176-03-24 08:24:00   \n",
       "\n",
       "  admission_type admission_location discharge_location insurance  ...  \\\n",
       "0       EW EMER.     EMERGENCY ROOM              REHAB     Other  ...   \n",
       "1       EW EMER.     EMERGENCY ROOM              REHAB     Other  ...   \n",
       "2       EW EMER.     EMERGENCY ROOM              REHAB     Other  ...   \n",
       "3       EW EMER.     EMERGENCY ROOM               HOME     Other  ...   \n",
       "4       EW EMER.     EMERGENCY ROOM              REHAB  Medicare  ...   \n",
       "\n",
       "  anchor_year       first_careunit        last_careunit               intime  \\\n",
       "0      2182.0  Trauma SICU (TSICU)  Trauma SICU (TSICU)  2184-05-03 14:36:00   \n",
       "1      2137.0  Trauma SICU (TSICU)  Trauma SICU (TSICU)  2137-07-02 01:42:38   \n",
       "2      2114.0  Trauma SICU (TSICU)  Trauma SICU (TSICU)  2114-03-27 01:30:00   \n",
       "3      2165.0  Trauma SICU (TSICU)  Trauma SICU (TSICU)  2165-06-19 03:27:00   \n",
       "4      2176.0  Trauma SICU (TSICU)  Trauma SICU (TSICU)  2176-03-24 09:29:00   \n",
       "\n",
       "         los  drg_code                                        description  \\\n",
       "0   2.301308      40.0                        SPINAL DISORDERS & INJURIES   \n",
       "1   1.893750      23.0                                  SPINAL PROCEDURES   \n",
       "2  17.376539       4.0  TRACHEOSTOMY W MV 96+ HOURS W EXTENSIVE PROCEDURE   \n",
       "3  13.884815     912.0  MUSCULOSKELETAL & OTHER PROCEDURES FOR MULTIPL...   \n",
       "4  29.218449      23.0                                  SPINAL PROCEDURES   \n",
       "\n",
       "  drg_severity drg_mortality  ed_los  \n",
       "0          2.0           2.0   658.0  \n",
       "1          2.0           1.0   372.0  \n",
       "2          4.0           3.0   384.0  \n",
       "3          4.0           3.0   183.0  \n",
       "4          3.0           3.0   212.0  \n",
       "\n",
       "[5 rows x 25 columns]"
      ]
     },
     "execution_count": 8,
     "metadata": {},
     "output_type": "execute_result"
    }
   ],
   "source": [
    "cleaned_df.df.head()"
   ]
  },
  {
   "cell_type": "code",
   "execution_count": 9,
   "metadata": {},
   "outputs": [],
   "source": [
    "cleaned_df.drop_columns(['icd_version', 'discharge_location', 'anchor_year'])"
   ]
  },
  {
   "cell_type": "code",
   "execution_count": 10,
   "metadata": {},
   "outputs": [],
   "source": [
    "cleaned_df.drop_na(subset = 'drg_code')"
   ]
  },
  {
   "cell_type": "code",
   "execution_count": 11,
   "metadata": {},
   "outputs": [
    {
     "data": {
      "text/plain": [
       "(204, 22)"
      ]
     },
     "execution_count": 11,
     "metadata": {},
     "output_type": "execute_result"
    }
   ],
   "source": [
    "cleaned_df.df.shape"
   ]
  }
 ],
 "metadata": {
  "kernelspec": {
   "display_name": "myproject_env",
   "language": "python",
   "name": "python3"
  },
  "language_info": {
   "codemirror_mode": {
    "name": "ipython",
    "version": 3
   },
   "file_extension": ".py",
   "mimetype": "text/x-python",
   "name": "python",
   "nbconvert_exporter": "python",
   "pygments_lexer": "ipython3",
   "version": "3.13.2"
  }
 },
 "nbformat": 4,
 "nbformat_minor": 2
}
