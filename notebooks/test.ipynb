{
 "cells": [
  {
   "cell_type": "code",
   "execution_count": 1,
   "metadata": {},
   "outputs": [],
   "source": [
    "import numpy as np\n",
    "import pandas as pd\n",
    "import matplotlib.pyplot as plt\n",
    "import seaborn as sns\n",
    "import sys\n",
    "import os\n",
    "\n",
    "sys.path.append('../')"
   ]
  },
  {
   "cell_type": "code",
   "execution_count": 2,
   "metadata": {},
   "outputs": [],
   "source": [
    "from src.create_dataset import MIMIC_III\n",
    "from src.create_dataset import MIMIC_IV\n",
    "from src.create_dataset import Dataset"
   ]
  },
  {
   "cell_type": "code",
   "execution_count": 3,
   "metadata": {},
   "outputs": [],
   "source": [
    "cleaned_df = Dataset(\"/Users/jibuthomas/Documents/mimic-iv-2.2\",\"/Users/jibuthomas/Documents/mimic-iii-clinical-database-1.4\")"
   ]
  },
  {
   "cell_type": "code",
   "execution_count": 4,
   "metadata": {},
   "outputs": [],
   "source": [
    "cleaned_df.load_data()"
   ]
  },
  {
   "cell_type": "code",
   "execution_count": 5,
   "metadata": {},
   "outputs": [],
   "source": [
    "cleaned_df.clean_data()"
   ]
  },
  {
   "cell_type": "code",
   "execution_count": 6,
   "metadata": {},
   "outputs": [],
   "source": [
    "cleaned_df.build()"
   ]
  },
  {
   "cell_type": "code",
   "execution_count": 7,
   "metadata": {},
   "outputs": [
    {
     "data": {
      "text/plain": [
       "(244, 25)"
      ]
     },
     "execution_count": 7,
     "metadata": {},
     "output_type": "execute_result"
    }
   ],
   "source": [
    "cleaned_df.df.shape"
   ]
  },
  {
   "cell_type": "code",
   "execution_count": 8,
   "metadata": {},
   "outputs": [
    {
     "data": {
      "text/html": [
       "<div>\n",
       "<style scoped>\n",
       "    .dataframe tbody tr th:only-of-type {\n",
       "        vertical-align: middle;\n",
       "    }\n",
       "\n",
       "    .dataframe tbody tr th {\n",
       "        vertical-align: top;\n",
       "    }\n",
       "\n",
       "    .dataframe thead th {\n",
       "        text-align: right;\n",
       "    }\n",
       "</style>\n",
       "<table border=\"1\" class=\"dataframe\">\n",
       "  <thead>\n",
       "    <tr style=\"text-align: right;\">\n",
       "      <th></th>\n",
       "      <th>subject_id</th>\n",
       "      <th>hadm_id</th>\n",
       "      <th>seq_num</th>\n",
       "      <th>icd_code</th>\n",
       "      <th>icd_version</th>\n",
       "      <th>admittime</th>\n",
       "      <th>admission_type</th>\n",
       "      <th>admission_location</th>\n",
       "      <th>discharge_location</th>\n",
       "      <th>insurance</th>\n",
       "      <th>...</th>\n",
       "      <th>anchor_year</th>\n",
       "      <th>first_careunit</th>\n",
       "      <th>last_careunit</th>\n",
       "      <th>intime</th>\n",
       "      <th>los</th>\n",
       "      <th>drg_code</th>\n",
       "      <th>description</th>\n",
       "      <th>drg_severity</th>\n",
       "      <th>drg_mortality</th>\n",
       "      <th>ed_los</th>\n",
       "    </tr>\n",
       "  </thead>\n",
       "  <tbody>\n",
       "    <tr>\n",
       "      <th>0</th>\n",
       "      <td>10196368</td>\n",
       "      <td>24464472</td>\n",
       "      <td>1.0</td>\n",
       "      <td>80604</td>\n",
       "      <td>9.0</td>\n",
       "      <td>2184-05-03 13:50:00</td>\n",
       "      <td>EW EMER.</td>\n",
       "      <td>EMERGENCY ROOM</td>\n",
       "      <td>REHAB</td>\n",
       "      <td>Other</td>\n",
       "      <td>...</td>\n",
       "      <td>2182.0</td>\n",
       "      <td>Trauma SICU (TSICU)</td>\n",
       "      <td>Trauma SICU (TSICU)</td>\n",
       "      <td>2184-05-03 14:36:00</td>\n",
       "      <td>2.301308</td>\n",
       "      <td>40.0</td>\n",
       "      <td>SPINAL DISORDERS &amp; INJURIES</td>\n",
       "      <td>2.0</td>\n",
       "      <td>2.0</td>\n",
       "      <td>658.0</td>\n",
       "    </tr>\n",
       "    <tr>\n",
       "      <th>1</th>\n",
       "      <td>10348324</td>\n",
       "      <td>27926100</td>\n",
       "      <td>1.0</td>\n",
       "      <td>80608</td>\n",
       "      <td>9.0</td>\n",
       "      <td>2137-06-29 20:21:00</td>\n",
       "      <td>EW EMER.</td>\n",
       "      <td>EMERGENCY ROOM</td>\n",
       "      <td>REHAB</td>\n",
       "      <td>Other</td>\n",
       "      <td>...</td>\n",
       "      <td>2137.0</td>\n",
       "      <td>Trauma SICU (TSICU)</td>\n",
       "      <td>Trauma SICU (TSICU)</td>\n",
       "      <td>2137-07-02 01:42:38</td>\n",
       "      <td>1.893750</td>\n",
       "      <td>23.0</td>\n",
       "      <td>SPINAL PROCEDURES</td>\n",
       "      <td>2.0</td>\n",
       "      <td>1.0</td>\n",
       "      <td>372.0</td>\n",
       "    </tr>\n",
       "    <tr>\n",
       "      <th>2</th>\n",
       "      <td>10393331</td>\n",
       "      <td>21425859</td>\n",
       "      <td>1.0</td>\n",
       "      <td>80600</td>\n",
       "      <td>9.0</td>\n",
       "      <td>2114-03-27 00:01:00</td>\n",
       "      <td>EW EMER.</td>\n",
       "      <td>EMERGENCY ROOM</td>\n",
       "      <td>REHAB</td>\n",
       "      <td>Other</td>\n",
       "      <td>...</td>\n",
       "      <td>2114.0</td>\n",
       "      <td>Trauma SICU (TSICU)</td>\n",
       "      <td>Trauma SICU (TSICU)</td>\n",
       "      <td>2114-03-27 01:30:00</td>\n",
       "      <td>17.376539</td>\n",
       "      <td>4.0</td>\n",
       "      <td>TRACHEOSTOMY W MV 96+ HOURS W EXTENSIVE PROCEDURE</td>\n",
       "      <td>4.0</td>\n",
       "      <td>3.0</td>\n",
       "      <td>384.0</td>\n",
       "    </tr>\n",
       "    <tr>\n",
       "      <th>3</th>\n",
       "      <td>10441044</td>\n",
       "      <td>21256821</td>\n",
       "      <td>3.0</td>\n",
       "      <td>80605</td>\n",
       "      <td>9.0</td>\n",
       "      <td>2165-06-19 01:58:00</td>\n",
       "      <td>EW EMER.</td>\n",
       "      <td>EMERGENCY ROOM</td>\n",
       "      <td>HOME</td>\n",
       "      <td>Other</td>\n",
       "      <td>...</td>\n",
       "      <td>2165.0</td>\n",
       "      <td>Trauma SICU (TSICU)</td>\n",
       "      <td>Trauma SICU (TSICU)</td>\n",
       "      <td>2165-06-19 03:27:00</td>\n",
       "      <td>13.884815</td>\n",
       "      <td>912.0</td>\n",
       "      <td>MUSCULOSKELETAL &amp; OTHER PROCEDURES FOR MULTIPL...</td>\n",
       "      <td>4.0</td>\n",
       "      <td>3.0</td>\n",
       "      <td>183.0</td>\n",
       "    </tr>\n",
       "    <tr>\n",
       "      <th>4</th>\n",
       "      <td>10521666</td>\n",
       "      <td>28942795</td>\n",
       "      <td>1.0</td>\n",
       "      <td>80605</td>\n",
       "      <td>9.0</td>\n",
       "      <td>2176-03-24 08:24:00</td>\n",
       "      <td>EW EMER.</td>\n",
       "      <td>EMERGENCY ROOM</td>\n",
       "      <td>REHAB</td>\n",
       "      <td>Medicare</td>\n",
       "      <td>...</td>\n",
       "      <td>2176.0</td>\n",
       "      <td>Trauma SICU (TSICU)</td>\n",
       "      <td>Trauma SICU (TSICU)</td>\n",
       "      <td>2176-03-24 09:29:00</td>\n",
       "      <td>29.218449</td>\n",
       "      <td>23.0</td>\n",
       "      <td>SPINAL PROCEDURES</td>\n",
       "      <td>3.0</td>\n",
       "      <td>3.0</td>\n",
       "      <td>212.0</td>\n",
       "    </tr>\n",
       "  </tbody>\n",
       "</table>\n",
       "<p>5 rows × 25 columns</p>\n",
       "</div>"
      ],
      "text/plain": [
       "   subject_id   hadm_id  seq_num icd_code  icd_version            admittime  \\\n",
       "0    10196368  24464472      1.0    80604          9.0  2184-05-03 13:50:00   \n",
       "1    10348324  27926100      1.0    80608          9.0  2137-06-29 20:21:00   \n",
       "2    10393331  21425859      1.0    80600          9.0  2114-03-27 00:01:00   \n",
       "3    10441044  21256821      3.0    80605          9.0  2165-06-19 01:58:00   \n",
       "4    10521666  28942795      1.0    80605          9.0  2176-03-24 08:24:00   \n",
       "\n",
       "  admission_type admission_location discharge_location insurance  ...  \\\n",
       "0       EW EMER.     EMERGENCY ROOM              REHAB     Other  ...   \n",
       "1       EW EMER.     EMERGENCY ROOM              REHAB     Other  ...   \n",
       "2       EW EMER.     EMERGENCY ROOM              REHAB     Other  ...   \n",
       "3       EW EMER.     EMERGENCY ROOM               HOME     Other  ...   \n",
       "4       EW EMER.     EMERGENCY ROOM              REHAB  Medicare  ...   \n",
       "\n",
       "  anchor_year       first_careunit        last_careunit               intime  \\\n",
       "0      2182.0  Trauma SICU (TSICU)  Trauma SICU (TSICU)  2184-05-03 14:36:00   \n",
       "1      2137.0  Trauma SICU (TSICU)  Trauma SICU (TSICU)  2137-07-02 01:42:38   \n",
       "2      2114.0  Trauma SICU (TSICU)  Trauma SICU (TSICU)  2114-03-27 01:30:00   \n",
       "3      2165.0  Trauma SICU (TSICU)  Trauma SICU (TSICU)  2165-06-19 03:27:00   \n",
       "4      2176.0  Trauma SICU (TSICU)  Trauma SICU (TSICU)  2176-03-24 09:29:00   \n",
       "\n",
       "         los  drg_code                                        description  \\\n",
       "0   2.301308      40.0                        SPINAL DISORDERS & INJURIES   \n",
       "1   1.893750      23.0                                  SPINAL PROCEDURES   \n",
       "2  17.376539       4.0  TRACHEOSTOMY W MV 96+ HOURS W EXTENSIVE PROCEDURE   \n",
       "3  13.884815     912.0  MUSCULOSKELETAL & OTHER PROCEDURES FOR MULTIPL...   \n",
       "4  29.218449      23.0                                  SPINAL PROCEDURES   \n",
       "\n",
       "  drg_severity drg_mortality  ed_los  \n",
       "0          2.0           2.0   658.0  \n",
       "1          2.0           1.0   372.0  \n",
       "2          4.0           3.0   384.0  \n",
       "3          4.0           3.0   183.0  \n",
       "4          3.0           3.0   212.0  \n",
       "\n",
       "[5 rows x 25 columns]"
      ]
     },
     "execution_count": 8,
     "metadata": {},
     "output_type": "execute_result"
    }
   ],
   "source": [
    "cleaned_df.df.head()"
   ]
  },
  {
   "cell_type": "code",
   "execution_count": 9,
   "metadata": {},
   "outputs": [],
   "source": [
    "cleaned_df.drop_columns(['icd_version', 'discharge_location', 'anchor_year'])"
   ]
  },
  {
   "cell_type": "code",
   "execution_count": 10,
   "metadata": {},
   "outputs": [],
   "source": [
    "cleaned_df.drop_na(subset = 'drg_code')"
   ]
  },
  {
   "cell_type": "code",
   "execution_count": 11,
   "metadata": {},
   "outputs": [
    {
     "data": {
      "text/plain": [
       "(204, 22)"
      ]
     },
     "execution_count": 11,
     "metadata": {},
     "output_type": "execute_result"
    }
   ],
   "source": [
    "cleaned_df.df.shape"
   ]
  },
  {
   "cell_type": "code",
   "execution_count": 12,
   "metadata": {},
   "outputs": [],
   "source": [
    "cleaned_df.extract_datetime_components('intime', ['month','day','hour','weekend'])"
   ]
  },
  {
   "cell_type": "code",
   "execution_count": 13,
   "metadata": {},
   "outputs": [
    {
     "data": {
      "text/html": [
       "<div>\n",
       "<style scoped>\n",
       "    .dataframe tbody tr th:only-of-type {\n",
       "        vertical-align: middle;\n",
       "    }\n",
       "\n",
       "    .dataframe tbody tr th {\n",
       "        vertical-align: top;\n",
       "    }\n",
       "\n",
       "    .dataframe thead th {\n",
       "        text-align: right;\n",
       "    }\n",
       "</style>\n",
       "<table border=\"1\" class=\"dataframe\">\n",
       "  <thead>\n",
       "    <tr style=\"text-align: right;\">\n",
       "      <th></th>\n",
       "      <th>subject_id</th>\n",
       "      <th>hadm_id</th>\n",
       "      <th>seq_num</th>\n",
       "      <th>icd_code</th>\n",
       "      <th>admittime</th>\n",
       "      <th>admission_type</th>\n",
       "      <th>admission_location</th>\n",
       "      <th>insurance</th>\n",
       "      <th>language</th>\n",
       "      <th>marital_status</th>\n",
       "      <th>...</th>\n",
       "      <th>los</th>\n",
       "      <th>drg_code</th>\n",
       "      <th>description</th>\n",
       "      <th>drg_severity</th>\n",
       "      <th>drg_mortality</th>\n",
       "      <th>ed_los</th>\n",
       "      <th>intime_month</th>\n",
       "      <th>intime_day</th>\n",
       "      <th>intime_hour</th>\n",
       "      <th>intime_weekend</th>\n",
       "    </tr>\n",
       "  </thead>\n",
       "  <tbody>\n",
       "    <tr>\n",
       "      <th>0</th>\n",
       "      <td>10196368</td>\n",
       "      <td>24464472</td>\n",
       "      <td>1.0</td>\n",
       "      <td>80604</td>\n",
       "      <td>2184-05-03 13:50:00</td>\n",
       "      <td>EW EMER.</td>\n",
       "      <td>EMERGENCY ROOM</td>\n",
       "      <td>Other</td>\n",
       "      <td>ENGLISH</td>\n",
       "      <td>MARRIED</td>\n",
       "      <td>...</td>\n",
       "      <td>2.301308</td>\n",
       "      <td>40.0</td>\n",
       "      <td>SPINAL DISORDERS &amp; INJURIES</td>\n",
       "      <td>2.0</td>\n",
       "      <td>2.0</td>\n",
       "      <td>658.0</td>\n",
       "      <td>May</td>\n",
       "      <td>Monday</td>\n",
       "      <td>14</td>\n",
       "      <td>False</td>\n",
       "    </tr>\n",
       "    <tr>\n",
       "      <th>1</th>\n",
       "      <td>10348324</td>\n",
       "      <td>27926100</td>\n",
       "      <td>1.0</td>\n",
       "      <td>80608</td>\n",
       "      <td>2137-06-29 20:21:00</td>\n",
       "      <td>EW EMER.</td>\n",
       "      <td>EMERGENCY ROOM</td>\n",
       "      <td>Other</td>\n",
       "      <td>ENGLISH</td>\n",
       "      <td>MARRIED</td>\n",
       "      <td>...</td>\n",
       "      <td>1.893750</td>\n",
       "      <td>23.0</td>\n",
       "      <td>SPINAL PROCEDURES</td>\n",
       "      <td>2.0</td>\n",
       "      <td>1.0</td>\n",
       "      <td>372.0</td>\n",
       "      <td>July</td>\n",
       "      <td>Tuesday</td>\n",
       "      <td>1</td>\n",
       "      <td>False</td>\n",
       "    </tr>\n",
       "    <tr>\n",
       "      <th>2</th>\n",
       "      <td>10393331</td>\n",
       "      <td>21425859</td>\n",
       "      <td>1.0</td>\n",
       "      <td>80600</td>\n",
       "      <td>2114-03-27 00:01:00</td>\n",
       "      <td>EW EMER.</td>\n",
       "      <td>EMERGENCY ROOM</td>\n",
       "      <td>Other</td>\n",
       "      <td>?</td>\n",
       "      <td>UNKNOWN</td>\n",
       "      <td>...</td>\n",
       "      <td>17.376539</td>\n",
       "      <td>4.0</td>\n",
       "      <td>TRACHEOSTOMY W MV 96+ HOURS W EXTENSIVE PROCEDURE</td>\n",
       "      <td>4.0</td>\n",
       "      <td>3.0</td>\n",
       "      <td>384.0</td>\n",
       "      <td>March</td>\n",
       "      <td>Tuesday</td>\n",
       "      <td>1</td>\n",
       "      <td>False</td>\n",
       "    </tr>\n",
       "    <tr>\n",
       "      <th>3</th>\n",
       "      <td>10441044</td>\n",
       "      <td>21256821</td>\n",
       "      <td>3.0</td>\n",
       "      <td>80605</td>\n",
       "      <td>2165-06-19 01:58:00</td>\n",
       "      <td>EW EMER.</td>\n",
       "      <td>EMERGENCY ROOM</td>\n",
       "      <td>Other</td>\n",
       "      <td>ENGLISH</td>\n",
       "      <td>SINGLE</td>\n",
       "      <td>...</td>\n",
       "      <td>13.884815</td>\n",
       "      <td>912.0</td>\n",
       "      <td>MUSCULOSKELETAL &amp; OTHER PROCEDURES FOR MULTIPL...</td>\n",
       "      <td>4.0</td>\n",
       "      <td>3.0</td>\n",
       "      <td>183.0</td>\n",
       "      <td>June</td>\n",
       "      <td>Wednesday</td>\n",
       "      <td>3</td>\n",
       "      <td>False</td>\n",
       "    </tr>\n",
       "    <tr>\n",
       "      <th>4</th>\n",
       "      <td>10521666</td>\n",
       "      <td>28942795</td>\n",
       "      <td>1.0</td>\n",
       "      <td>80605</td>\n",
       "      <td>2176-03-24 08:24:00</td>\n",
       "      <td>EW EMER.</td>\n",
       "      <td>EMERGENCY ROOM</td>\n",
       "      <td>Medicare</td>\n",
       "      <td>ENGLISH</td>\n",
       "      <td>MARRIED</td>\n",
       "      <td>...</td>\n",
       "      <td>29.218449</td>\n",
       "      <td>23.0</td>\n",
       "      <td>SPINAL PROCEDURES</td>\n",
       "      <td>3.0</td>\n",
       "      <td>3.0</td>\n",
       "      <td>212.0</td>\n",
       "      <td>March</td>\n",
       "      <td>Sunday</td>\n",
       "      <td>9</td>\n",
       "      <td>True</td>\n",
       "    </tr>\n",
       "  </tbody>\n",
       "</table>\n",
       "<p>5 rows × 26 columns</p>\n",
       "</div>"
      ],
      "text/plain": [
       "   subject_id   hadm_id  seq_num icd_code            admittime admission_type  \\\n",
       "0    10196368  24464472      1.0    80604  2184-05-03 13:50:00       EW EMER.   \n",
       "1    10348324  27926100      1.0    80608  2137-06-29 20:21:00       EW EMER.   \n",
       "2    10393331  21425859      1.0    80600  2114-03-27 00:01:00       EW EMER.   \n",
       "3    10441044  21256821      3.0    80605  2165-06-19 01:58:00       EW EMER.   \n",
       "4    10521666  28942795      1.0    80605  2176-03-24 08:24:00       EW EMER.   \n",
       "\n",
       "  admission_location insurance language marital_status  ...        los  \\\n",
       "0     EMERGENCY ROOM     Other  ENGLISH        MARRIED  ...   2.301308   \n",
       "1     EMERGENCY ROOM     Other  ENGLISH        MARRIED  ...   1.893750   \n",
       "2     EMERGENCY ROOM     Other        ?        UNKNOWN  ...  17.376539   \n",
       "3     EMERGENCY ROOM     Other  ENGLISH         SINGLE  ...  13.884815   \n",
       "4     EMERGENCY ROOM  Medicare  ENGLISH        MARRIED  ...  29.218449   \n",
       "\n",
       "  drg_code                                        description drg_severity  \\\n",
       "0     40.0                        SPINAL DISORDERS & INJURIES          2.0   \n",
       "1     23.0                                  SPINAL PROCEDURES          2.0   \n",
       "2      4.0  TRACHEOSTOMY W MV 96+ HOURS W EXTENSIVE PROCEDURE          4.0   \n",
       "3    912.0  MUSCULOSKELETAL & OTHER PROCEDURES FOR MULTIPL...          4.0   \n",
       "4     23.0                                  SPINAL PROCEDURES          3.0   \n",
       "\n",
       "  drg_mortality ed_los  intime_month  intime_day intime_hour  intime_weekend  \n",
       "0           2.0  658.0           May      Monday          14           False  \n",
       "1           1.0  372.0          July     Tuesday           1           False  \n",
       "2           3.0  384.0         March     Tuesday           1           False  \n",
       "3           3.0  183.0          June   Wednesday           3           False  \n",
       "4           3.0  212.0         March      Sunday           9            True  \n",
       "\n",
       "[5 rows x 26 columns]"
      ]
     },
     "execution_count": 13,
     "metadata": {},
     "output_type": "execute_result"
    }
   ],
   "source": [
    "cleaned_df.df.head()"
   ]
  },
  {
   "cell_type": "code",
   "execution_count": 14,
   "metadata": {},
   "outputs": [],
   "source": [
    "cleaned_df.drop_columns(['subject_id', 'hadm_id', 'intime', 'admittime'])"
   ]
  },
  {
   "cell_type": "code",
   "execution_count": 15,
   "metadata": {},
   "outputs": [
    {
     "data": {
      "text/plain": [
       "(204, 22)"
      ]
     },
     "execution_count": 15,
     "metadata": {},
     "output_type": "execute_result"
    }
   ],
   "source": [
    "cleaned_df.df.shape"
   ]
  },
  {
   "cell_type": "code",
   "execution_count": 16,
   "metadata": {},
   "outputs": [
    {
     "data": {
      "text/plain": [
       "seq_num               float64\n",
       "icd_code               object\n",
       "admission_type         object\n",
       "admission_location     object\n",
       "insurance              object\n",
       "language               object\n",
       "marital_status         object\n",
       "race                   object\n",
       "gender                 object\n",
       "anchor_age              int64\n",
       "first_careunit         object\n",
       "last_careunit          object\n",
       "los                   float64\n",
       "drg_code              float64\n",
       "description            object\n",
       "drg_severity          float64\n",
       "drg_mortality         float64\n",
       "ed_los                float64\n",
       "intime_month           object\n",
       "intime_day             object\n",
       "intime_hour             int32\n",
       "intime_weekend           bool\n",
       "dtype: object"
      ]
     },
     "execution_count": 16,
     "metadata": {},
     "output_type": "execute_result"
    }
   ],
   "source": [
    "cleaned_df.df.dtypes"
   ]
  },
  {
   "cell_type": "code",
   "execution_count": 17,
   "metadata": {},
   "outputs": [],
   "source": [
    "cleaned_df.change_datatype(['intime_weekend'], 'int')"
   ]
  },
  {
   "cell_type": "code",
   "execution_count": 18,
   "metadata": {},
   "outputs": [],
   "source": [
    "cleaned_df.change_datatype(['drg_severity','drg_mortality','seq_num','icd_code','admission_type','admission_location','insurance','language','marital_status','race','gender','first_careunit','last_careunit','drg_code','intime_month', 'intime_day'], 'category')"
   ]
  },
  {
   "cell_type": "code",
   "execution_count": 19,
   "metadata": {},
   "outputs": [],
   "source": [
    "cleaned_df.drop_columns(['intime_hour', 'description'])"
   ]
  },
  {
   "cell_type": "code",
   "execution_count": 20,
   "metadata": {},
   "outputs": [
    {
     "data": {
      "text/plain": [
       "(204, 20)"
      ]
     },
     "execution_count": 20,
     "metadata": {},
     "output_type": "execute_result"
    }
   ],
   "source": [
    "cleaned_df.df.shape"
   ]
  },
  {
   "cell_type": "code",
   "execution_count": 21,
   "metadata": {},
   "outputs": [],
   "source": [
    "cleaned_df.log_transform(['anchor_age','ed_los'])"
   ]
  },
  {
   "cell_type": "code",
   "execution_count": 22,
   "metadata": {},
   "outputs": [
    {
     "data": {
      "text/plain": [
       "seq_num               category\n",
       "icd_code              category\n",
       "admission_type        category\n",
       "admission_location    category\n",
       "insurance             category\n",
       "language              category\n",
       "marital_status        category\n",
       "race                  category\n",
       "gender                category\n",
       "first_careunit        category\n",
       "last_careunit         category\n",
       "los                    float64\n",
       "drg_code              category\n",
       "drg_severity          category\n",
       "drg_mortality         category\n",
       "intime_month          category\n",
       "intime_day            category\n",
       "intime_weekend           int64\n",
       "log_anchor_age         float64\n",
       "log_ed_los             float64\n",
       "dtype: object"
      ]
     },
     "execution_count": 22,
     "metadata": {},
     "output_type": "execute_result"
    }
   ],
   "source": [
    "cleaned_df.df.dtypes"
   ]
  },
  {
   "cell_type": "code",
   "execution_count": 23,
   "metadata": {},
   "outputs": [],
   "source": [
    "from src.engineer_features import get_preprocessor_and_split"
   ]
  },
  {
   "cell_type": "code",
   "execution_count": 24,
   "metadata": {},
   "outputs": [
    {
     "ename": "NameError",
     "evalue": "name 'FunctionTransformer' is not defined",
     "output_type": "error",
     "traceback": [
      "\u001b[31m---------------------------------------------------------------------------\u001b[39m",
      "\u001b[31mNameError\u001b[39m                                 Traceback (most recent call last)",
      "\u001b[36mCell\u001b[39m\u001b[36m \u001b[39m\u001b[32mIn[24]\u001b[39m\u001b[32m, line 11\u001b[39m\n\u001b[32m      2\u001b[39m config = {\n\u001b[32m      3\u001b[39m     \u001b[33m'\u001b[39m\u001b[33mtarget_col\u001b[39m\u001b[33m'\u001b[39m: \u001b[33m'\u001b[39m\u001b[33mlos\u001b[39m\u001b[33m'\u001b[39m,\n\u001b[32m      4\u001b[39m     \u001b[33m'\u001b[39m\u001b[33mnumeric_features\u001b[39m\u001b[33m'\u001b[39m: [\u001b[33m'\u001b[39m\u001b[33mlog_anchor_age\u001b[39m\u001b[33m'\u001b[39m, \u001b[33m'\u001b[39m\u001b[33mlog_ed_los\u001b[39m\u001b[33m'\u001b[39m],\n\u001b[32m   (...)\u001b[39m\u001b[32m      7\u001b[39m     \u001b[33m'\u001b[39m\u001b[33mrandom_state\u001b[39m\u001b[33m'\u001b[39m: \u001b[32m42\u001b[39m\n\u001b[32m      8\u001b[39m }\n\u001b[32m     10\u001b[39m \u001b[38;5;66;03m# Execute processing\u001b[39;00m\n\u001b[32m---> \u001b[39m\u001b[32m11\u001b[39m X_train, X_test, y_train, y_test, preprocessor = \u001b[43mget_preprocessor_and_split\u001b[49m\u001b[43m(\u001b[49m\n\u001b[32m     12\u001b[39m \u001b[43m    \u001b[49m\u001b[43mdata\u001b[49m\u001b[43m=\u001b[49m\u001b[43mcleaned_df\u001b[49m\u001b[43m.\u001b[49m\u001b[43mdf\u001b[49m\u001b[43m,\u001b[49m\n\u001b[32m     13\u001b[39m \u001b[43m    \u001b[49m\u001b[43m*\u001b[49m\u001b[43m*\u001b[49m\u001b[43mconfig\u001b[49m\n\u001b[32m     14\u001b[39m \u001b[43m)\u001b[49m\n",
      "\u001b[36mFile \u001b[39m\u001b[32m~/Documents/Predicting-ICU-LOS/notebooks/../src/engineer_features.py:86\u001b[39m, in \u001b[36mget_preprocessor_and_split\u001b[39m\u001b[34m(data, target_col, numeric_features, categorical_features, test_size, random_state, preprocessing_steps)\u001b[39m\n\u001b[32m     82\u001b[39m \u001b[38;5;66;03m# Default preprocessing steps if not provided\u001b[39;00m\n\u001b[32m     83\u001b[39m \u001b[38;5;28;01mif\u001b[39;00m preprocessing_steps \u001b[38;5;129;01mis\u001b[39;00m \u001b[38;5;28;01mNone\u001b[39;00m:\n\u001b[32m     84\u001b[39m     preprocessing_steps = {\n\u001b[32m     85\u001b[39m         \u001b[33m'\u001b[39m\u001b[33mnumeric\u001b[39m\u001b[33m'\u001b[39m: [(\u001b[33m'\u001b[39m\u001b[33mscaler\u001b[39m\u001b[33m'\u001b[39m, StandardScaler()),\n\u001b[32m---> \u001b[39m\u001b[32m86\u001b[39m                     (\u001b[33m'\u001b[39m\u001b[33mlog_transform\u001b[39m\u001b[33m'\u001b[39m, \u001b[43mFunctionTransformer\u001b[49m(np.log1p, validate=\u001b[38;5;28;01mTrue\u001b[39;00m))],\n\u001b[32m     87\u001b[39m         \u001b[33m'\u001b[39m\u001b[33mcategorical\u001b[39m\u001b[33m'\u001b[39m: [(\u001b[33m'\u001b[39m\u001b[33mencoder\u001b[39m\u001b[33m'\u001b[39m, OneHotEncoder(handle_unknown=\u001b[33m'\u001b[39m\u001b[33mignore\u001b[39m\u001b[33m'\u001b[39m, sparse_output=\u001b[38;5;28;01mFalse\u001b[39;00m, drop=\u001b[33m'\u001b[39m\u001b[33mfirst\u001b[39m\u001b[33m'\u001b[39m))]\n\u001b[32m     88\u001b[39m     }\n\u001b[32m     90\u001b[39m \u001b[38;5;66;03m# Create column transformers\u001b[39;00m\n\u001b[32m     91\u001b[39m numeric_transformer = Pipeline(steps=preprocessing_steps[\u001b[33m'\u001b[39m\u001b[33mnumeric\u001b[39m\u001b[33m'\u001b[39m])\n",
      "\u001b[31mNameError\u001b[39m: name 'FunctionTransformer' is not defined"
     ]
    }
   ],
   "source": [
    "# Define parameters\n",
    "config = {\n",
    "    'target_col': 'los',\n",
    "    'numeric_features': ['log_anchor_age', 'log_ed_los'],\n",
    "    'categorical_features': ['seq_num', 'icd_code','admission_type','admission_location','insurance','language','marital_status','race','gender','first_careunit','last_careunit','drg_code','intime_month','intime_day'],\n",
    "    'test_size': 0.2,\n",
    "    'random_state': 42\n",
    "}\n",
    "\n",
    "# Execute processing\n",
    "X_train, X_test, y_train, y_test, preprocessor = get_preprocessor_and_split(\n",
    "    data=cleaned_df.df,\n",
    "    **config\n",
    ")"
   ]
  },
  {
   "cell_type": "code",
   "execution_count": null,
   "metadata": {},
   "outputs": [
    {
     "data": {
      "text/plain": [
       "(163, 141)"
      ]
     },
     "execution_count": 24,
     "metadata": {},
     "output_type": "execute_result"
    }
   ],
   "source": [
    "X_train.shape"
   ]
  },
  {
   "cell_type": "code",
   "execution_count": null,
   "metadata": {},
   "outputs": [],
   "source": []
  }
 ],
 "metadata": {
  "kernelspec": {
   "display_name": "myproject_env",
   "language": "python",
   "name": "python3"
  },
  "language_info": {
   "codemirror_mode": {
    "name": "ipython",
    "version": 3
   },
   "file_extension": ".py",
   "mimetype": "text/x-python",
   "name": "python",
   "nbconvert_exporter": "python",
   "pygments_lexer": "ipython3",
   "version": "3.13.2"
  }
 },
 "nbformat": 4,
 "nbformat_minor": 2
}
