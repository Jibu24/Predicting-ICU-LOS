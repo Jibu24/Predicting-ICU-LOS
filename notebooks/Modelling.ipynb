{
 "cells": [
  {
   "cell_type": "code",
   "execution_count": 1,
   "metadata": {},
   "outputs": [],
   "source": [
    "import numpy as np\n",
    "import pandas as pd\n",
    "import matplotlib.pyplot as plt\n",
    "import seaborn as sns\n",
    "from sklearn.model_selection import train_test_split\n",
    "from sklearn.preprocessing import StandardScaler\n",
    "from sklearn.linear_model import LinearRegression\n",
    "from sklearn.metrics import mean_squared_error, r2_score"
   ]
  },
  {
   "cell_type": "code",
   "execution_count": 2,
   "metadata": {},
   "outputs": [],
   "source": [
    "import xgboost as xgb"
   ]
  },
  {
   "cell_type": "code",
   "execution_count": 3,
   "metadata": {},
   "outputs": [],
   "source": [
    "df = pd.read_csv('../data/processed_data.csv')"
   ]
  },
  {
   "cell_type": "code",
   "execution_count": 4,
   "metadata": {},
   "outputs": [
    {
     "data": {
      "text/html": [
       "<div>\n",
       "<style scoped>\n",
       "    .dataframe tbody tr th:only-of-type {\n",
       "        vertical-align: middle;\n",
       "    }\n",
       "\n",
       "    .dataframe tbody tr th {\n",
       "        vertical-align: top;\n",
       "    }\n",
       "\n",
       "    .dataframe thead th {\n",
       "        text-align: right;\n",
       "    }\n",
       "</style>\n",
       "<table border=\"1\" class=\"dataframe\">\n",
       "  <thead>\n",
       "    <tr style=\"text-align: right;\">\n",
       "      <th></th>\n",
       "      <th>anchor_age</th>\n",
       "      <th>los</th>\n",
       "      <th>drg_severity</th>\n",
       "      <th>drg_mortality</th>\n",
       "      <th>ed_los</th>\n",
       "      <th>is_weekend</th>\n",
       "      <th>seq_num_2.0</th>\n",
       "      <th>seq_num_3.0</th>\n",
       "      <th>seq_num_4.0</th>\n",
       "      <th>seq_num_6.0</th>\n",
       "      <th>...</th>\n",
       "      <th>in_month_May</th>\n",
       "      <th>in_month_November</th>\n",
       "      <th>in_month_October</th>\n",
       "      <th>in_month_September</th>\n",
       "      <th>in_day_Monday</th>\n",
       "      <th>in_day_Saturday</th>\n",
       "      <th>in_day_Sunday</th>\n",
       "      <th>in_day_Thursday</th>\n",
       "      <th>in_day_Tuesday</th>\n",
       "      <th>in_day_Wednesday</th>\n",
       "    </tr>\n",
       "  </thead>\n",
       "  <tbody>\n",
       "    <tr>\n",
       "      <th>0</th>\n",
       "      <td>71</td>\n",
       "      <td>2.301308</td>\n",
       "      <td>2.0</td>\n",
       "      <td>2.0</td>\n",
       "      <td>658.0</td>\n",
       "      <td>0</td>\n",
       "      <td>False</td>\n",
       "      <td>False</td>\n",
       "      <td>False</td>\n",
       "      <td>False</td>\n",
       "      <td>...</td>\n",
       "      <td>True</td>\n",
       "      <td>False</td>\n",
       "      <td>False</td>\n",
       "      <td>False</td>\n",
       "      <td>True</td>\n",
       "      <td>False</td>\n",
       "      <td>False</td>\n",
       "      <td>False</td>\n",
       "      <td>False</td>\n",
       "      <td>False</td>\n",
       "    </tr>\n",
       "    <tr>\n",
       "      <th>1</th>\n",
       "      <td>58</td>\n",
       "      <td>1.893750</td>\n",
       "      <td>2.0</td>\n",
       "      <td>1.0</td>\n",
       "      <td>372.0</td>\n",
       "      <td>0</td>\n",
       "      <td>False</td>\n",
       "      <td>False</td>\n",
       "      <td>False</td>\n",
       "      <td>False</td>\n",
       "      <td>...</td>\n",
       "      <td>False</td>\n",
       "      <td>False</td>\n",
       "      <td>False</td>\n",
       "      <td>False</td>\n",
       "      <td>False</td>\n",
       "      <td>False</td>\n",
       "      <td>False</td>\n",
       "      <td>False</td>\n",
       "      <td>True</td>\n",
       "      <td>False</td>\n",
       "    </tr>\n",
       "    <tr>\n",
       "      <th>2</th>\n",
       "      <td>48</td>\n",
       "      <td>17.376539</td>\n",
       "      <td>4.0</td>\n",
       "      <td>3.0</td>\n",
       "      <td>384.0</td>\n",
       "      <td>0</td>\n",
       "      <td>False</td>\n",
       "      <td>False</td>\n",
       "      <td>False</td>\n",
       "      <td>False</td>\n",
       "      <td>...</td>\n",
       "      <td>False</td>\n",
       "      <td>False</td>\n",
       "      <td>False</td>\n",
       "      <td>False</td>\n",
       "      <td>False</td>\n",
       "      <td>False</td>\n",
       "      <td>False</td>\n",
       "      <td>False</td>\n",
       "      <td>True</td>\n",
       "      <td>False</td>\n",
       "    </tr>\n",
       "    <tr>\n",
       "      <th>3</th>\n",
       "      <td>55</td>\n",
       "      <td>13.884815</td>\n",
       "      <td>4.0</td>\n",
       "      <td>3.0</td>\n",
       "      <td>183.0</td>\n",
       "      <td>0</td>\n",
       "      <td>False</td>\n",
       "      <td>True</td>\n",
       "      <td>False</td>\n",
       "      <td>False</td>\n",
       "      <td>...</td>\n",
       "      <td>False</td>\n",
       "      <td>False</td>\n",
       "      <td>False</td>\n",
       "      <td>False</td>\n",
       "      <td>False</td>\n",
       "      <td>False</td>\n",
       "      <td>False</td>\n",
       "      <td>False</td>\n",
       "      <td>False</td>\n",
       "      <td>True</td>\n",
       "    </tr>\n",
       "    <tr>\n",
       "      <th>4</th>\n",
       "      <td>85</td>\n",
       "      <td>29.218449</td>\n",
       "      <td>3.0</td>\n",
       "      <td>3.0</td>\n",
       "      <td>212.0</td>\n",
       "      <td>1</td>\n",
       "      <td>False</td>\n",
       "      <td>False</td>\n",
       "      <td>False</td>\n",
       "      <td>False</td>\n",
       "      <td>...</td>\n",
       "      <td>False</td>\n",
       "      <td>False</td>\n",
       "      <td>False</td>\n",
       "      <td>False</td>\n",
       "      <td>False</td>\n",
       "      <td>False</td>\n",
       "      <td>True</td>\n",
       "      <td>False</td>\n",
       "      <td>False</td>\n",
       "      <td>False</td>\n",
       "    </tr>\n",
       "  </tbody>\n",
       "</table>\n",
       "<p>5 rows × 135 columns</p>\n",
       "</div>"
      ],
      "text/plain": [
       "   anchor_age        los  drg_severity  drg_mortality  ed_los  is_weekend  \\\n",
       "0          71   2.301308           2.0            2.0   658.0           0   \n",
       "1          58   1.893750           2.0            1.0   372.0           0   \n",
       "2          48  17.376539           4.0            3.0   384.0           0   \n",
       "3          55  13.884815           4.0            3.0   183.0           0   \n",
       "4          85  29.218449           3.0            3.0   212.0           1   \n",
       "\n",
       "   seq_num_2.0  seq_num_3.0  seq_num_4.0  seq_num_6.0  ...  in_month_May  \\\n",
       "0        False        False        False        False  ...          True   \n",
       "1        False        False        False        False  ...         False   \n",
       "2        False        False        False        False  ...         False   \n",
       "3        False         True        False        False  ...         False   \n",
       "4        False        False        False        False  ...         False   \n",
       "\n",
       "   in_month_November  in_month_October  in_month_September  in_day_Monday  \\\n",
       "0              False             False               False           True   \n",
       "1              False             False               False          False   \n",
       "2              False             False               False          False   \n",
       "3              False             False               False          False   \n",
       "4              False             False               False          False   \n",
       "\n",
       "   in_day_Saturday  in_day_Sunday  in_day_Thursday  in_day_Tuesday  \\\n",
       "0            False          False            False           False   \n",
       "1            False          False            False            True   \n",
       "2            False          False            False            True   \n",
       "3            False          False            False           False   \n",
       "4            False           True            False           False   \n",
       "\n",
       "   in_day_Wednesday  \n",
       "0             False  \n",
       "1             False  \n",
       "2             False  \n",
       "3              True  \n",
       "4             False  \n",
       "\n",
       "[5 rows x 135 columns]"
      ]
     },
     "execution_count": 4,
     "metadata": {},
     "output_type": "execute_result"
    }
   ],
   "source": [
    "df.head()"
   ]
  },
  {
   "cell_type": "code",
   "execution_count": 5,
   "metadata": {},
   "outputs": [
    {
     "data": {
      "text/plain": [
       "anchor_age            int64\n",
       "los                 float64\n",
       "drg_severity        float64\n",
       "drg_mortality       float64\n",
       "ed_los              float64\n",
       "                     ...   \n",
       "in_day_Saturday        bool\n",
       "in_day_Sunday          bool\n",
       "in_day_Thursday        bool\n",
       "in_day_Tuesday         bool\n",
       "in_day_Wednesday       bool\n",
       "Length: 135, dtype: object"
      ]
     },
     "execution_count": 5,
     "metadata": {},
     "output_type": "execute_result"
    }
   ],
   "source": [
    "df.dtypes"
   ]
  },
  {
   "cell_type": "code",
   "execution_count": 6,
   "metadata": {},
   "outputs": [],
   "source": [
    "# change drg_severity and drg_mortality to categorical\n",
    "df['drg_severity'] = df['drg_severity'].astype('category')\n",
    "df['drg_mortality'] = df['drg_mortality'].astype('category')"
   ]
  },
  {
   "cell_type": "code",
   "execution_count": 7,
   "metadata": {},
   "outputs": [],
   "source": [
    "# Avoid log(0) issues\n",
    "df['log_age'] = np.log(df['anchor_age'] + 1)\n",
    "df['log_ed_los'] = np.log(df['ed_los'] + 1)\n",
    "\n",
    "#df['age_squared'] = df['anchor_age'] ** 2\n",
    "#df['ed_los_squared'] = df['ed_los'] ** 2\n",
    "\n",
    "df.drop(columns=['anchor_age', 'ed_los'], inplace=True)"
   ]
  },
  {
   "cell_type": "code",
   "execution_count": 8,
   "metadata": {},
   "outputs": [],
   "source": [
    "#scale numerical features\n",
    "from sklearn.preprocessing import StandardScaler\n",
    "\n",
    "numerical_features = df.select_dtypes(include=['float64', 'int64']).columns.tolist()\n",
    "numerical_features.remove('los')\n",
    "numerical_features.remove('is_weekend')"
   ]
  },
  {
   "cell_type": "code",
   "execution_count": 9,
   "metadata": {},
   "outputs": [
    {
     "data": {
      "text/plain": [
       "['log_age', 'log_ed_los']"
      ]
     },
     "execution_count": 9,
     "metadata": {},
     "output_type": "execute_result"
    }
   ],
   "source": [
    "numerical_features"
   ]
  },
  {
   "cell_type": "code",
   "execution_count": 10,
   "metadata": {},
   "outputs": [],
   "source": [
    "Scaler = StandardScaler()\n",
    "df[numerical_features] = Scaler.fit_transform(df[numerical_features])"
   ]
  },
  {
   "cell_type": "code",
   "execution_count": 11,
   "metadata": {},
   "outputs": [],
   "source": [
    "X = df.drop(columns=['los'])  # Features\n",
    "y = df['los']  # Target variable\n",
    "\n",
    "X_train, X_test, y_train, y_test = train_test_split(X, y, test_size=0.2, random_state=42)"
   ]
  },
  {
   "cell_type": "code",
   "execution_count": 12,
   "metadata": {},
   "outputs": [
    {
     "data": {
      "text/plain": [
       "(161, 134)"
      ]
     },
     "execution_count": 12,
     "metadata": {},
     "output_type": "execute_result"
    }
   ],
   "source": [
    "X_train.shape"
   ]
  },
  {
   "cell_type": "code",
   "execution_count": 232,
   "metadata": {},
   "outputs": [
    {
     "name": "stdout",
     "output_type": "stream",
     "text": [
      "Mean Squared Error: 73.23429566540919\n",
      "R^2 Score: 0.16557116923439785\n"
     ]
    }
   ],
   "source": [
    "model = xgb.XGBRegressor(objective='reg:squarederror', n_estimators=100, learning_rate=0.1, max_depth=5, enable_categorical=True)\n",
    "model.fit(X_train, y_train)\n",
    "y_pred = model.predict(X_test)\n",
    "mse = mean_squared_error(y_test, y_pred)\n",
    "r2 = r2_score(y_test, y_pred)\n",
    "print(f'Mean Squared Error: {mse}')\n",
    "print(f'R^2 Score: {r2}')"
   ]
  },
  {
   "cell_type": "code",
   "execution_count": 233,
   "metadata": {},
   "outputs": [],
   "source": [
    "from sklearn.preprocessing import StandardScaler\n",
    "from sklearn.linear_model import LinearRegression, Ridge, Lasso\n",
    "from sklearn.ensemble import RandomForestRegressor, GradientBoostingRegressor\n",
    "from sklearn.metrics import mean_squared_error, r2_score\n"
   ]
  },
  {
   "cell_type": "code",
   "execution_count": 234,
   "metadata": {},
   "outputs": [
    {
     "name": "stdout",
     "output_type": "stream",
     "text": [
      "Linear Regression (Multi): RMSE = 13.18, R^2 = -0.98\n",
      "Ridge Regression: RMSE = 9.54, R^2 = -0.04\n",
      "Lasso Regression: RMSE = 8.97, R^2 = 0.08\n",
      "Random Forest: RMSE = 9.02, R^2 = 0.07\n",
      "Gradient Boosting: RMSE = 8.56, R^2 = 0.17\n"
     ]
    }
   ],
   "source": [
    "def test_models(X_train, X_test, y_train, y_test):\n",
    "    models = {\n",
    "        'Linear Regression (Multi)': LinearRegression(),\n",
    "        'Ridge Regression': Ridge(),\n",
    "        'Lasso Regression': Lasso(),\n",
    "        'Random Forest': RandomForestRegressor(),\n",
    "        'Gradient Boosting': GradientBoostingRegressor()\n",
    "    }\n",
    "    \n",
    "    results = {}\n",
    "    \n",
    "    for name, model in models.items():\n",
    "        # Fit the model\n",
    "        model.fit(X_train, y_train)\n",
    "        \n",
    "        # Make predictions on the test set\n",
    "        y_pred = model.predict(X_test)\n",
    "        \n",
    "        # Calculate RMSE and R^2\n",
    "        rmse = np.sqrt(mean_squared_error(y_test, y_pred))\n",
    "        r_squared = r2_score(y_test, y_pred)\n",
    "        \n",
    "        # Store the results\n",
    "        results[name] = {'RMSE': rmse, 'R^2': r_squared}\n",
    "        \n",
    "        # Print the results\n",
    "        print(f\"{name}: RMSE = {rmse:.2f}, R^2 = {r_squared:.2f}\")\n",
    "        \n",
    "    return results\n",
    "\n",
    "# Run the test function with your dataset\n",
    "results = test_models(X_train, X_test, y_train, y_test)"
   ]
  },
  {
   "cell_type": "code",
   "execution_count": 235,
   "metadata": {},
   "outputs": [
    {
     "name": "stdout",
     "output_type": "stream",
     "text": [
      "Fitting 5 folds for each of 288 candidates, totalling 1440 fits\n",
      "Best Parameters: {'model__learning_rate': 0.01, 'model__max_depth': 3, 'model__n_estimators': 200, 'model__subsample': 0.8, 'select__k': 100}\n",
      "Best Score (R^2): 0.2215035202460506\n"
     ]
    }
   ],
   "source": [
    "from sklearn.model_selection import GridSearchCV\n",
    "from sklearn.feature_selection import SelectKBest, f_regression\n",
    "from sklearn.pipeline import Pipeline\n",
    "\n",
    "# 1. Define pipeline\n",
    "pipeline = Pipeline([\n",
    "    ('select', SelectKBest(score_func=f_regression)),\n",
    "    ('model', model)\n",
    "])\n",
    "# Define parameter grid\n",
    "param_grid = {\n",
    "    'select__k': [40, 55, 75, 100],\n",
    "    'model__n_estimators': [100,150, 200],\n",
    "    'model__max_depth': [ 3,4, 5, 7],\n",
    "    'model__learning_rate': [0.01, 0.1, 0.2],\n",
    "    'model__subsample': [0.8, 1.0]\n",
    "}\n",
    "\n",
    "# Define scoring function (neg_root_mean_squared_error preferred for regression)\n",
    "#scorer = make_scorer(mean_squared_error, greater_is_better=False, squared=False)\n",
    "\n",
    "# Set up GridSearch\n",
    "grid_search = GridSearchCV(\n",
    "    pipeline,\n",
    "    param_grid=param_grid,\n",
    "    scoring='r2',  # Use 'neg_root_mean_squared_error' or R²\n",
    "    cv=5,\n",
    "    n_jobs=-1,\n",
    "    verbose=1\n",
    ")\n",
    "\n",
    "# Fit grid search\n",
    "grid_search.fit(X_train, y_train)\n",
    "\n",
    "# Best model\n",
    "best_model = grid_search.best_estimator_\n",
    "print(\"Best Parameters:\", grid_search.best_params_)\n",
    "print(\"Best Score (R^2):\", grid_search.best_score_)"
   ]
  },
  {
   "cell_type": "code",
   "execution_count": 236,
   "metadata": {},
   "outputs": [
    {
     "name": "stdout",
     "output_type": "stream",
     "text": [
      "Final R² on test set: 0.16977612542924259\n"
     ]
    }
   ],
   "source": [
    "# 3. Evaluate best model on the true test set\n",
    "r2_test = best_model.score(X_test, y_test)\n",
    "\n",
    "print(\"Final R² on test set:\", r2_test)"
   ]
  },
  {
   "cell_type": "code",
   "execution_count": 237,
   "metadata": {},
   "outputs": [
    {
     "name": "stdout",
     "output_type": "stream",
     "text": [
      "Fitting 5 folds for each of 540 candidates, totalling 2700 fits\n",
      "Best Parameters: {'select__k': 'all', 'svr__C': 1, 'svr__degree': 2, 'svr__epsilon': 0.1, 'svr__gamma': 'scale', 'svr__kernel': 'linear'}\n",
      "Test R² Score: 0.24080891877271104\n"
     ]
    }
   ],
   "source": [
    "# Try SVM models\n",
    "from sklearn.svm import SVR\n",
    "# 3. Pipeline: standardization + SVR\n",
    "pipeline = Pipeline([\n",
    "    ('select',SelectKBest(score_func=f_regression)),\n",
    "    ('svr', SVR())\n",
    "])\n",
    "\n",
    "# 4. Define parameter grid for SVR\n",
    "param_grid = {\n",
    "    'select__k': [40, 55, 75, 100, 'all'],\n",
    "    'svr__C': [0.1, 1, 10],\n",
    "    'svr__epsilon': [0.1, 0.2, 0.5],\n",
    "    'svr__kernel': ['rbf', 'linear', 'poly'],\n",
    "    'svr__gamma': ['scale', 'auto'],\n",
    "    'svr__degree': [2, 3]  # Only used for poly kernel\n",
    "}\n",
    "\n",
    "# 5. GridSearchCV with 5-fold CV and R² scoring\n",
    "grid = GridSearchCV(\n",
    "    estimator=pipeline,\n",
    "    param_grid=param_grid,\n",
    "    cv=5,\n",
    "    scoring='r2',\n",
    "    n_jobs=-1,\n",
    "    verbose=1\n",
    ")\n",
    "\n",
    "# 6. Fit the model\n",
    "grid.fit(X_train, y_train)\n",
    "\n",
    "# 7. Evaluate\n",
    "best_model = grid.best_estimator_\n",
    "y_pred = best_model.predict(X_test)\n",
    "r2 = r2_score(y_test, y_pred)\n",
    "\n",
    "print(\"Best Parameters:\", grid.best_params_)\n",
    "print(\"Test R² Score:\", r2)"
   ]
  },
  {
   "cell_type": "code",
   "execution_count": 238,
   "metadata": {},
   "outputs": [
    {
     "data": {
      "text/html": [
       "<div>\n",
       "<style scoped>\n",
       "    .dataframe tbody tr th:only-of-type {\n",
       "        vertical-align: middle;\n",
       "    }\n",
       "\n",
       "    .dataframe tbody tr th {\n",
       "        vertical-align: top;\n",
       "    }\n",
       "\n",
       "    .dataframe thead th {\n",
       "        text-align: right;\n",
       "    }\n",
       "</style>\n",
       "<table border=\"1\" class=\"dataframe\">\n",
       "  <thead>\n",
       "    <tr style=\"text-align: right;\">\n",
       "      <th></th>\n",
       "      <th>los</th>\n",
       "      <th>drg_severity</th>\n",
       "      <th>drg_mortality</th>\n",
       "      <th>is_weekend</th>\n",
       "      <th>seq_num_2.0</th>\n",
       "      <th>seq_num_3.0</th>\n",
       "      <th>seq_num_4.0</th>\n",
       "      <th>seq_num_6.0</th>\n",
       "      <th>seq_num_7.0</th>\n",
       "      <th>seq_num_9.0</th>\n",
       "      <th>...</th>\n",
       "      <th>in_month_October</th>\n",
       "      <th>in_month_September</th>\n",
       "      <th>in_day_Monday</th>\n",
       "      <th>in_day_Saturday</th>\n",
       "      <th>in_day_Sunday</th>\n",
       "      <th>in_day_Thursday</th>\n",
       "      <th>in_day_Tuesday</th>\n",
       "      <th>in_day_Wednesday</th>\n",
       "      <th>log_age</th>\n",
       "      <th>log_ed_los</th>\n",
       "    </tr>\n",
       "  </thead>\n",
       "  <tbody>\n",
       "    <tr>\n",
       "      <th>0</th>\n",
       "      <td>2.301308</td>\n",
       "      <td>2.0</td>\n",
       "      <td>2.0</td>\n",
       "      <td>0</td>\n",
       "      <td>False</td>\n",
       "      <td>False</td>\n",
       "      <td>False</td>\n",
       "      <td>False</td>\n",
       "      <td>False</td>\n",
       "      <td>False</td>\n",
       "      <td>...</td>\n",
       "      <td>False</td>\n",
       "      <td>False</td>\n",
       "      <td>True</td>\n",
       "      <td>False</td>\n",
       "      <td>False</td>\n",
       "      <td>False</td>\n",
       "      <td>False</td>\n",
       "      <td>False</td>\n",
       "      <td>0.698252</td>\n",
       "      <td>1.064276</td>\n",
       "    </tr>\n",
       "    <tr>\n",
       "      <th>1</th>\n",
       "      <td>1.893750</td>\n",
       "      <td>2.0</td>\n",
       "      <td>1.0</td>\n",
       "      <td>0</td>\n",
       "      <td>False</td>\n",
       "      <td>False</td>\n",
       "      <td>False</td>\n",
       "      <td>False</td>\n",
       "      <td>False</td>\n",
       "      <td>False</td>\n",
       "      <td>...</td>\n",
       "      <td>False</td>\n",
       "      <td>False</td>\n",
       "      <td>False</td>\n",
       "      <td>False</td>\n",
       "      <td>False</td>\n",
       "      <td>False</td>\n",
       "      <td>True</td>\n",
       "      <td>False</td>\n",
       "      <td>0.190845</td>\n",
       "      <td>0.569386</td>\n",
       "    </tr>\n",
       "    <tr>\n",
       "      <th>2</th>\n",
       "      <td>17.376539</td>\n",
       "      <td>4.0</td>\n",
       "      <td>3.0</td>\n",
       "      <td>0</td>\n",
       "      <td>False</td>\n",
       "      <td>False</td>\n",
       "      <td>False</td>\n",
       "      <td>False</td>\n",
       "      <td>False</td>\n",
       "      <td>False</td>\n",
       "      <td>...</td>\n",
       "      <td>False</td>\n",
       "      <td>False</td>\n",
       "      <td>False</td>\n",
       "      <td>False</td>\n",
       "      <td>False</td>\n",
       "      <td>False</td>\n",
       "      <td>True</td>\n",
       "      <td>False</td>\n",
       "      <td>-0.282387</td>\n",
       "      <td>0.596920</td>\n",
       "    </tr>\n",
       "    <tr>\n",
       "      <th>3</th>\n",
       "      <td>13.884815</td>\n",
       "      <td>4.0</td>\n",
       "      <td>3.0</td>\n",
       "      <td>0</td>\n",
       "      <td>False</td>\n",
       "      <td>True</td>\n",
       "      <td>False</td>\n",
       "      <td>False</td>\n",
       "      <td>False</td>\n",
       "      <td>False</td>\n",
       "      <td>...</td>\n",
       "      <td>False</td>\n",
       "      <td>False</td>\n",
       "      <td>False</td>\n",
       "      <td>False</td>\n",
       "      <td>False</td>\n",
       "      <td>False</td>\n",
       "      <td>False</td>\n",
       "      <td>True</td>\n",
       "      <td>0.057869</td>\n",
       "      <td>-0.045061</td>\n",
       "    </tr>\n",
       "    <tr>\n",
       "      <th>4</th>\n",
       "      <td>29.218449</td>\n",
       "      <td>3.0</td>\n",
       "      <td>3.0</td>\n",
       "      <td>1</td>\n",
       "      <td>False</td>\n",
       "      <td>False</td>\n",
       "      <td>False</td>\n",
       "      <td>False</td>\n",
       "      <td>False</td>\n",
       "      <td>False</td>\n",
       "      <td>...</td>\n",
       "      <td>False</td>\n",
       "      <td>False</td>\n",
       "      <td>False</td>\n",
       "      <td>False</td>\n",
       "      <td>True</td>\n",
       "      <td>False</td>\n",
       "      <td>False</td>\n",
       "      <td>False</td>\n",
       "      <td>1.151007</td>\n",
       "      <td>0.082200</td>\n",
       "    </tr>\n",
       "  </tbody>\n",
       "</table>\n",
       "<p>5 rows × 135 columns</p>\n",
       "</div>"
      ],
      "text/plain": [
       "         los drg_severity drg_mortality  is_weekend  seq_num_2.0  seq_num_3.0  \\\n",
       "0   2.301308          2.0           2.0           0        False        False   \n",
       "1   1.893750          2.0           1.0           0        False        False   \n",
       "2  17.376539          4.0           3.0           0        False        False   \n",
       "3  13.884815          4.0           3.0           0        False         True   \n",
       "4  29.218449          3.0           3.0           1        False        False   \n",
       "\n",
       "   seq_num_4.0  seq_num_6.0  seq_num_7.0  seq_num_9.0  ...  in_month_October  \\\n",
       "0        False        False        False        False  ...             False   \n",
       "1        False        False        False        False  ...             False   \n",
       "2        False        False        False        False  ...             False   \n",
       "3        False        False        False        False  ...             False   \n",
       "4        False        False        False        False  ...             False   \n",
       "\n",
       "   in_month_September  in_day_Monday  in_day_Saturday  in_day_Sunday  \\\n",
       "0               False           True            False          False   \n",
       "1               False          False            False          False   \n",
       "2               False          False            False          False   \n",
       "3               False          False            False          False   \n",
       "4               False          False            False           True   \n",
       "\n",
       "   in_day_Thursday  in_day_Tuesday  in_day_Wednesday   log_age  log_ed_los  \n",
       "0            False           False             False  0.698252    1.064276  \n",
       "1            False            True             False  0.190845    0.569386  \n",
       "2            False            True             False -0.282387    0.596920  \n",
       "3            False           False              True  0.057869   -0.045061  \n",
       "4            False           False             False  1.151007    0.082200  \n",
       "\n",
       "[5 rows x 135 columns]"
      ]
     },
     "execution_count": 238,
     "metadata": {},
     "output_type": "execute_result"
    }
   ],
   "source": [
    "df.head()"
   ]
  },
  {
   "cell_type": "code",
   "execution_count": 239,
   "metadata": {},
   "outputs": [
    {
     "data": {
      "text/plain": [
       "Index(['los', 'drg_severity', 'drg_mortality', 'is_weekend', 'seq_num_2.0',\n",
       "       'seq_num_3.0', 'seq_num_4.0', 'seq_num_6.0', 'seq_num_7.0',\n",
       "       'seq_num_9.0',\n",
       "       ...\n",
       "       'in_month_October', 'in_month_September', 'in_day_Monday',\n",
       "       'in_day_Saturday', 'in_day_Sunday', 'in_day_Thursday', 'in_day_Tuesday',\n",
       "       'in_day_Wednesday', 'log_age', 'log_ed_los'],\n",
       "      dtype='object', length=135)"
      ]
     },
     "execution_count": 239,
     "metadata": {},
     "output_type": "execute_result"
    }
   ],
   "source": [
    "df.columns"
   ]
  },
  {
   "cell_type": "code",
   "execution_count": 241,
   "metadata": {},
   "outputs": [
    {
     "data": {
      "text/plain": [
       "['../models/svr_model.pkl']"
      ]
     },
     "execution_count": 241,
     "metadata": {},
     "output_type": "execute_result"
    }
   ],
   "source": [
    "import joblib\n",
    "joblib.dump(best_model, '../models/svr_model.pkl')"
   ]
  },
  {
   "cell_type": "code",
   "execution_count": null,
   "metadata": {},
   "outputs": [],
   "source": []
  }
 ],
 "metadata": {
  "kernelspec": {
   "display_name": "myproject_env",
   "language": "python",
   "name": "python3"
  },
  "language_info": {
   "codemirror_mode": {
    "name": "ipython",
    "version": 3
   },
   "file_extension": ".py",
   "mimetype": "text/x-python",
   "name": "python",
   "nbconvert_exporter": "python",
   "pygments_lexer": "ipython3",
   "version": "3.13.2"
  }
 },
 "nbformat": 4,
 "nbformat_minor": 2
}
